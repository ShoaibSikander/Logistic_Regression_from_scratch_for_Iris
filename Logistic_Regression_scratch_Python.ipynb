{
 "cells": [
  {
   "cell_type": "markdown",
   "metadata": {},
   "source": [
    "# Logistic Regression Classifier from scratch Python"
   ]
  },
  {
   "cell_type": "markdown",
   "metadata": {},
   "source": [
    "Logistic Regression is a linear model for Classification rather than Regression. It is basically a binary classifier which uses 'One-Vs-Rest' approach in multiclass classification task. In opposite to Linear Regression, which predict/forecast the continuous values, Logistic Regression is a very simple and rudimental algorithm for classification purpose."
   ]
  },
  {
   "cell_type": "markdown",
   "metadata": {},
   "source": [
    "Like Linear Regression, Logistic Regression also uses a linear equation to predict values which is presented below:"
   ]
  },
  {
   "cell_type": "markdown",
   "metadata": {},
   "source": [
    "\\begin{align}\n",
    "z = \\theta_0 + \\theta_1*x_1 + \\theta_2*x_2 + \\theta_3*x_3 + .....\n",
    "\\end{align}"
   ]
  },
  {
   "cell_type": "markdown",
   "metadata": {},
   "source": [
    " This predicted value can be anywhere between positive and negative infinity. Since we want the result in 0 or 1 in classification task, therefore predicted value between positive and negative inifinty is coverted between 0 and 1. Sigmoid Function is used for this purpose which is presented below."
   ]
  },
  {
   "cell_type": "markdown",
   "metadata": {},
   "source": [
    "\\begin{align}\n",
    "h = g(z) = \\frac{1}{1+e^{-z}}\n",
    "\\end{align}"
   ]
  },
  {
   "cell_type": "markdown",
   "metadata": {},
   "source": [
    "The output value of Linear Equation is fed to Sigmoid function g(z) which squashes the result between 0 and 1."
   ]
  },
  {
   "cell_type": "markdown",
   "metadata": {},
   "source": [
    "The Cost/Loss Function to calculate the cost for misclassification is presented below:\n",
    "\\begin{align}\n",
    "J(\\theta) = - 1/m * \\sum_{i=1}^m[y^ilog(h_\\theta(x^i))+(1-y^i)log(1-h_\\theta(x^i))]\n",
    "\\end{align}"
   ]
  },
  {
   "cell_type": "markdown",
   "metadata": {},
   "source": [
    "Vectorized Implementation of the above Equation is as follow."
   ]
  },
  {
   "cell_type": "markdown",
   "metadata": {},
   "source": [
    "\\begin{align}\n",
    "J(\\theta) = 1/m . (-y^Tlog(h) - (1-y)^Tlog(1-h))\n",
    "\\end{align}"
   ]
  },
  {
   "cell_type": "markdown",
   "metadata": {},
   "source": [
    "##### Importing Libraries"
   ]
  },
  {
   "cell_type": "code",
   "execution_count": 1,
   "metadata": {},
   "outputs": [],
   "source": [
    "import numpy as np\n",
    "import pandas as pd\n",
    "import matplotlib.pyplot as plt \n",
    "from sklearn.utils import shuffle\n",
    "from sklearn.model_selection import train_test_split\n",
    "from sklearn.metrics import accuracy_score"
   ]
  },
  {
   "cell_type": "markdown",
   "metadata": {},
   "source": [
    "##### Load Dataset from drive"
   ]
  },
  {
   "cell_type": "code",
   "execution_count": 2,
   "metadata": {},
   "outputs": [],
   "source": [
    "df = pd.read_csv(r'E:\\Masters\\01-Study\\Master Thesis\\1-Working\\3rd Task (Laptop C implementation)\\2-Logistic_Regression_scratch_Python\\Tutorial-3 (working)\\Iris.csv') ## Load data"
   ]
  },
  {
   "cell_type": "markdown",
   "metadata": {},
   "source": [
    "A preview of dataset is presented below:"
   ]
  },
  {
   "cell_type": "code",
   "execution_count": 3,
   "metadata": {},
   "outputs": [
    {
     "data": {
      "text/html": [
       "<div>\n",
       "<style scoped>\n",
       "    .dataframe tbody tr th:only-of-type {\n",
       "        vertical-align: middle;\n",
       "    }\n",
       "\n",
       "    .dataframe tbody tr th {\n",
       "        vertical-align: top;\n",
       "    }\n",
       "\n",
       "    .dataframe thead th {\n",
       "        text-align: right;\n",
       "    }\n",
       "</style>\n",
       "<table border=\"1\" class=\"dataframe\">\n",
       "  <thead>\n",
       "    <tr style=\"text-align: right;\">\n",
       "      <th></th>\n",
       "      <th>Id</th>\n",
       "      <th>SepalLengthCm</th>\n",
       "      <th>SepalWidthCm</th>\n",
       "      <th>PetalLengthCm</th>\n",
       "      <th>PetalWidthCm</th>\n",
       "      <th>Species</th>\n",
       "    </tr>\n",
       "  </thead>\n",
       "  <tbody>\n",
       "    <tr>\n",
       "      <th>0</th>\n",
       "      <td>1</td>\n",
       "      <td>5.1</td>\n",
       "      <td>3.5</td>\n",
       "      <td>1.4</td>\n",
       "      <td>0.2</td>\n",
       "      <td>Iris-setosa</td>\n",
       "    </tr>\n",
       "    <tr>\n",
       "      <th>1</th>\n",
       "      <td>2</td>\n",
       "      <td>4.9</td>\n",
       "      <td>3.0</td>\n",
       "      <td>1.4</td>\n",
       "      <td>0.2</td>\n",
       "      <td>Iris-setosa</td>\n",
       "    </tr>\n",
       "    <tr>\n",
       "      <th>2</th>\n",
       "      <td>3</td>\n",
       "      <td>4.7</td>\n",
       "      <td>3.2</td>\n",
       "      <td>1.3</td>\n",
       "      <td>0.2</td>\n",
       "      <td>Iris-setosa</td>\n",
       "    </tr>\n",
       "    <tr>\n",
       "      <th>3</th>\n",
       "      <td>4</td>\n",
       "      <td>4.6</td>\n",
       "      <td>3.1</td>\n",
       "      <td>1.5</td>\n",
       "      <td>0.2</td>\n",
       "      <td>Iris-setosa</td>\n",
       "    </tr>\n",
       "    <tr>\n",
       "      <th>4</th>\n",
       "      <td>5</td>\n",
       "      <td>5.0</td>\n",
       "      <td>3.6</td>\n",
       "      <td>1.4</td>\n",
       "      <td>0.2</td>\n",
       "      <td>Iris-setosa</td>\n",
       "    </tr>\n",
       "  </tbody>\n",
       "</table>\n",
       "</div>"
      ],
      "text/plain": [
       "   Id  SepalLengthCm  SepalWidthCm  PetalLengthCm  PetalWidthCm      Species\n",
       "0   1            5.1           3.5            1.4           0.2  Iris-setosa\n",
       "1   2            4.9           3.0            1.4           0.2  Iris-setosa\n",
       "2   3            4.7           3.2            1.3           0.2  Iris-setosa\n",
       "3   4            4.6           3.1            1.5           0.2  Iris-setosa\n",
       "4   5            5.0           3.6            1.4           0.2  Iris-setosa"
      ]
     },
     "execution_count": 3,
     "metadata": {},
     "output_type": "execute_result"
    }
   ],
   "source": [
    "df.head()"
   ]
  },
  {
   "cell_type": "markdown",
   "metadata": {},
   "source": [
    "'Id' column of Dataset is being dropped because it is not needed."
   ]
  },
  {
   "cell_type": "code",
   "execution_count": 4,
   "metadata": {},
   "outputs": [],
   "source": [
    "df = df.drop(['Id'],axis=1)"
   ]
  },
  {
   "cell_type": "markdown",
   "metadata": {},
   "source": [
    "Dataset contains three types of flowers. First 50 samples belong to 'Iris-Setosa', next 50 samples belong to 'Iris-Versicolor' whereas last 50 samples belong to 'Iris-Virginica' class. Since this example deals only with Binary Classification so there should be only two types of flowers to be classified. Therefore last 50 samples of dataset have been dropped. "
   ]
  },
  {
   "cell_type": "code",
   "execution_count": 5,
   "metadata": {},
   "outputs": [],
   "source": [
    "rows = list(range(100,150))\n",
    "df = df.drop(df.index[rows])  ## Drop the rows with target values Iris-virginica"
   ]
  },
  {
   "cell_type": "markdown",
   "metadata": {},
   "source": [
    "Now labels of the flower will be made. If the flower is of type 'Iris-Setosa' then they are represented by 0. Otherwise, if they are of type 'Iris-Versicolor' they they are represented by 1."
   ]
  },
  {
   "cell_type": "code",
   "execution_count": 6,
   "metadata": {},
   "outputs": [],
   "source": [
    "Y = []\n",
    "target = df['Species']"
   ]
  },
  {
   "cell_type": "code",
   "execution_count": 7,
   "metadata": {},
   "outputs": [],
   "source": [
    "for val in target:\n",
    "    if(val == 'Iris-setosa'):\n",
    "        Y.append(0)\n",
    "    else:\n",
    "        Y.append(1)"
   ]
  },
  {
   "cell_type": "markdown",
   "metadata": {},
   "source": [
    "Now the 'Species' column of dataset is being dropped because it is no longer needed. "
   ]
  },
  {
   "cell_type": "code",
   "execution_count": 8,
   "metadata": {},
   "outputs": [],
   "source": [
    "df = df.drop(['Species'],axis=1)"
   ]
  },
  {
   "cell_type": "code",
   "execution_count": 9,
   "metadata": {},
   "outputs": [],
   "source": [
    "X = df.values.tolist()"
   ]
  },
  {
   "cell_type": "markdown",
   "metadata": {},
   "source": [
    "Dataset is shuffled so that 'Iris-Setosa' and 'Iris-Versicolor' samples get mix and then they can be used for training and testing."
   ]
  },
  {
   "cell_type": "code",
   "execution_count": 10,
   "metadata": {},
   "outputs": [],
   "source": [
    "X, Y = shuffle(X,Y)"
   ]
  },
  {
   "cell_type": "markdown",
   "metadata": {},
   "source": [
    "90% of the data will be used for training whereas rest of 10% will be used for testing purpose."
   ]
  },
  {
   "cell_type": "code",
   "execution_count": 11,
   "metadata": {},
   "outputs": [],
   "source": [
    "x_train = []\n",
    "y_train = []\n",
    "x_test = []\n",
    "y_test = []\n",
    "\n",
    "x_train, x_test, y_train, y_test = train_test_split(X, Y, train_size=0.9, test_size=0.1)\n",
    "\n",
    "x_train = np.array(x_train)\n",
    "y_train = np.array(y_train)\n",
    "x_test = np.array(x_test)\n",
    "y_test = np.array(y_test)"
   ]
  },
  {
   "cell_type": "markdown",
   "metadata": {},
   "source": [
    "There are four features in dataset i.e. Sepal Length, Sepal Width, Petal Length, Petal Width. These features have been separated and stored in variables x_1, x_2, x_3 and x_4 respectively."
   ]
  },
  {
   "cell_type": "code",
   "execution_count": 12,
   "metadata": {},
   "outputs": [
    {
     "name": "stdout",
     "output_type": "stream",
     "text": [
      "(90,)\n",
      "(90,)\n",
      "(90,)\n",
      "(90,)\n"
     ]
    }
   ],
   "source": [
    "x_1 = x_train[:,0]\n",
    "x_2 = x_train[:,1]\n",
    "x_3 = x_train[:,2]\n",
    "x_4 = x_train[:,3]\n",
    "\n",
    "x_1 = np.array(x_1)\n",
    "x_2 = np.array(x_2)\n",
    "x_3 = np.array(x_3)\n",
    "x_4 = np.array(x_4)\n",
    "\n",
    "print(x_1.shape)\n",
    "print(x_2.shape)\n",
    "print(x_3.shape)\n",
    "print(x_4.shape)"
   ]
  },
  {
   "cell_type": "code",
   "execution_count": 13,
   "metadata": {},
   "outputs": [
    {
     "name": "stdout",
     "output_type": "stream",
     "text": [
      "(90, 1)\n",
      "(90, 1)\n",
      "(90, 1)\n",
      "(90, 1)\n"
     ]
    }
   ],
   "source": [
    "x_1 = x_1.reshape(90,1)\n",
    "x_2 = x_2.reshape(90,1)\n",
    "x_3 = x_3.reshape(90,1)\n",
    "x_4 = x_4.reshape(90,1)\n",
    "\n",
    "print(x_1.shape)\n",
    "print(x_2.shape)\n",
    "print(x_3.shape)\n",
    "print(x_4.shape)"
   ]
  },
  {
   "cell_type": "code",
   "execution_count": 14,
   "metadata": {},
   "outputs": [],
   "source": [
    "y_train = y_train.reshape(90,1)"
   ]
  },
  {
   "cell_type": "markdown",
   "metadata": {},
   "source": [
    "Sigmoid Function is defined below, which will be used further."
   ]
  },
  {
   "cell_type": "code",
   "execution_count": 15,
   "metadata": {},
   "outputs": [],
   "source": [
    "def sigmoid(x):\n",
    "    return (1 / (1 + np.exp(-x)))"
   ]
  },
  {
   "cell_type": "markdown",
   "metadata": {},
   "source": [
    "Here 'm' is the number of samples whereas 'alpha' is Learning Rate."
   ]
  },
  {
   "cell_type": "code",
   "execution_count": 16,
   "metadata": {},
   "outputs": [],
   "source": [
    "m = 90\n",
    "alpha = 0.0001"
   ]
  },
  {
   "cell_type": "markdown",
   "metadata": {},
   "source": [
    "Parameter Values have been initialized with Zero."
   ]
  },
  {
   "cell_type": "code",
   "execution_count": 17,
   "metadata": {},
   "outputs": [],
   "source": [
    "theta_0 = np.zeros((m,1))\n",
    "theta_1 = np.zeros((m,1))\n",
    "theta_2 = np.zeros((m,1))\n",
    "theta_3 = np.zeros((m,1))\n",
    "theta_4 = np.zeros((m,1))"
   ]
  },
  {
   "cell_type": "code",
   "execution_count": 18,
   "metadata": {},
   "outputs": [],
   "source": [
    "epochs = 0\n",
    "cost_func = []"
   ]
  },
  {
   "cell_type": "markdown",
   "metadata": {},
   "source": [
    "Program is run for 10000 Epochs. Each time, value of 'z' is calculated from linear equation and passed to Sigmoid function which gives the value 'h'. This value of 'h' is used further to calculate 'cost'. After that values of 'theta_0', 'theta_1', 'theta_2', 'theta_3' and 'theta_4' are updated and value of 'cost' is pushed into an array. The loop runs again and conitnues for 10000 Epochs."
   ]
  },
  {
   "cell_type": "code",
   "execution_count": 19,
   "metadata": {},
   "outputs": [],
   "source": [
    "while(epochs < 10000):\n",
    "    z = theta_0 + theta_1 * x_1 + theta_2 * x_2 + theta_3 * x_3 + theta_4 * x_4\n",
    "    h = sigmoid(z)\n",
    "    \n",
    "    cost = (- np.dot(np.transpose(y_train),np.log(h)) - np.dot(np.transpose(1-y_train),np.log(1-h)))/m\n",
    "    \n",
    "    theta_0_grad = np.dot(np.ones((1,m)),h-y_train)/m\n",
    "    theta_1_grad = np.dot(np.transpose(x_1),h-y_train)/m\n",
    "    theta_2_grad = np.dot(np.transpose(x_2),h-y_train)/m\n",
    "    theta_3_grad = np.dot(np.transpose(x_3),h-y_train)/m\n",
    "    theta_4_grad = np.dot(np.transpose(x_4),h-y_train)/m\n",
    "    \n",
    "    theta_0 = theta_0 - alpha * theta_0_grad\n",
    "    theta_1 = theta_1 - alpha * theta_1_grad\n",
    "    theta_2 = theta_2 - alpha * theta_2_grad\n",
    "    theta_3 = theta_3 - alpha * theta_3_grad\n",
    "    theta_4 = theta_4 - alpha * theta_4_grad\n",
    "    \n",
    "    cost_func.append(cost)\n",
    "    epochs += 1"
   ]
  },
  {
   "cell_type": "markdown",
   "metadata": {},
   "source": [
    "Now the Training Part is complete. Trained parameters have been stored in theta_0, theta_1, theta_2, theta_3 and theta_4. These parameters will be used further during Testing."
   ]
  },
  {
   "cell_type": "markdown",
   "metadata": {},
   "source": [
    "Four features are separated from Test Dataset and pre-processed before Testing."
   ]
  },
  {
   "cell_type": "code",
   "execution_count": 20,
   "metadata": {},
   "outputs": [],
   "source": [
    "test_x_1 = x_test[:,0]\n",
    "test_x_2 = x_test[:,1]\n",
    "test_x_3 = x_test[:,2]\n",
    "test_x_4 = x_test[:,3]\n",
    "\n",
    "test_x_1 = np.array(test_x_1)\n",
    "test_x_2 = np.array(test_x_2)\n",
    "test_x_3 = np.array(test_x_3)\n",
    "test_x_4 = np.array(test_x_4)\n",
    "\n",
    "test_x_1 = test_x_1.reshape(10,1)\n",
    "test_x_2 = test_x_2.reshape(10,1)\n",
    "test_x_3 = test_x_3.reshape(10,1)\n",
    "test_x_4 = test_x_4.reshape(10,1)"
   ]
  },
  {
   "cell_type": "code",
   "execution_count": 21,
   "metadata": {},
   "outputs": [
    {
     "data": {
      "text/plain": [
       "(90, 1)"
      ]
     },
     "execution_count": 21,
     "metadata": {},
     "output_type": "execute_result"
    }
   ],
   "source": [
    "theta_0.shape"
   ]
  },
  {
   "cell_type": "code",
   "execution_count": 22,
   "metadata": {},
   "outputs": [
    {
     "data": {
      "text/plain": [
       "array([[-0.04552131],\n",
       "       [-0.04552131],\n",
       "       [-0.04552131],\n",
       "       [-0.04552131],\n",
       "       [-0.04552131],\n",
       "       [-0.04552131],\n",
       "       [-0.04552131],\n",
       "       [-0.04552131],\n",
       "       [-0.04552131],\n",
       "       [-0.04552131],\n",
       "       [-0.04552131],\n",
       "       [-0.04552131],\n",
       "       [-0.04552131],\n",
       "       [-0.04552131],\n",
       "       [-0.04552131],\n",
       "       [-0.04552131],\n",
       "       [-0.04552131],\n",
       "       [-0.04552131],\n",
       "       [-0.04552131],\n",
       "       [-0.04552131],\n",
       "       [-0.04552131],\n",
       "       [-0.04552131],\n",
       "       [-0.04552131],\n",
       "       [-0.04552131],\n",
       "       [-0.04552131],\n",
       "       [-0.04552131],\n",
       "       [-0.04552131],\n",
       "       [-0.04552131],\n",
       "       [-0.04552131],\n",
       "       [-0.04552131],\n",
       "       [-0.04552131],\n",
       "       [-0.04552131],\n",
       "       [-0.04552131],\n",
       "       [-0.04552131],\n",
       "       [-0.04552131],\n",
       "       [-0.04552131],\n",
       "       [-0.04552131],\n",
       "       [-0.04552131],\n",
       "       [-0.04552131],\n",
       "       [-0.04552131],\n",
       "       [-0.04552131],\n",
       "       [-0.04552131],\n",
       "       [-0.04552131],\n",
       "       [-0.04552131],\n",
       "       [-0.04552131],\n",
       "       [-0.04552131],\n",
       "       [-0.04552131],\n",
       "       [-0.04552131],\n",
       "       [-0.04552131],\n",
       "       [-0.04552131],\n",
       "       [-0.04552131],\n",
       "       [-0.04552131],\n",
       "       [-0.04552131],\n",
       "       [-0.04552131],\n",
       "       [-0.04552131],\n",
       "       [-0.04552131],\n",
       "       [-0.04552131],\n",
       "       [-0.04552131],\n",
       "       [-0.04552131],\n",
       "       [-0.04552131],\n",
       "       [-0.04552131],\n",
       "       [-0.04552131],\n",
       "       [-0.04552131],\n",
       "       [-0.04552131],\n",
       "       [-0.04552131],\n",
       "       [-0.04552131],\n",
       "       [-0.04552131],\n",
       "       [-0.04552131],\n",
       "       [-0.04552131],\n",
       "       [-0.04552131],\n",
       "       [-0.04552131],\n",
       "       [-0.04552131],\n",
       "       [-0.04552131],\n",
       "       [-0.04552131],\n",
       "       [-0.04552131],\n",
       "       [-0.04552131],\n",
       "       [-0.04552131],\n",
       "       [-0.04552131],\n",
       "       [-0.04552131],\n",
       "       [-0.04552131],\n",
       "       [-0.04552131],\n",
       "       [-0.04552131],\n",
       "       [-0.04552131],\n",
       "       [-0.04552131],\n",
       "       [-0.04552131],\n",
       "       [-0.04552131],\n",
       "       [-0.04552131],\n",
       "       [-0.04552131],\n",
       "       [-0.04552131],\n",
       "       [-0.04552131]])"
      ]
     },
     "execution_count": 22,
     "metadata": {},
     "output_type": "execute_result"
    }
   ],
   "source": [
    "theta_0"
   ]
  },
  {
   "cell_type": "markdown",
   "metadata": {},
   "source": [
    "Only first 10 values of theta_0, theta_1, theta_2, theta_3 and theta_4 have been kept and rest are discarded because Test dataset contains only 10 samples."
   ]
  },
  {
   "cell_type": "code",
   "execution_count": 23,
   "metadata": {},
   "outputs": [],
   "source": [
    "index = list(range(10,90))\n",
    "\n",
    "theta_0 = np.delete(theta_0, index)\n",
    "theta_1 = np.delete(theta_1, index)\n",
    "theta_2 = np.delete(theta_2, index)\n",
    "theta_3 = np.delete(theta_3, index)\n",
    "theta_4 = np.delete(theta_4, index)\n",
    "\n",
    "theta_0 = theta_0.reshape(10,1)\n",
    "theta_1 = theta_1.reshape(10,1)\n",
    "theta_2 = theta_2.reshape(10,1)\n",
    "theta_3 = theta_3.reshape(10,1)\n",
    "theta_4 = theta_4.reshape(10,1)"
   ]
  },
  {
   "cell_type": "markdown",
   "metadata": {},
   "source": [
    "Now the values are predicted."
   ]
  },
  {
   "cell_type": "code",
   "execution_count": 24,
   "metadata": {},
   "outputs": [],
   "source": [
    "y_pred = theta_0 + theta_1 * test_x_1 + theta_2 * test_x_2 + theta_3 * test_x_3 + theta_4 * test_x_4\n",
    "y_pred = sigmoid(y_pred)"
   ]
  },
  {
   "cell_type": "markdown",
   "metadata": {},
   "source": [
    "Classify as 1 if probability is more that 0.5. Otherwise classify it as 0."
   ]
  },
  {
   "cell_type": "code",
   "execution_count": 25,
   "metadata": {},
   "outputs": [],
   "source": [
    "new_y_pred =[]\n",
    "for val in y_pred:\n",
    "    if(val >= 0.5):\n",
    "        new_y_pred.append(1)\n",
    "    else:\n",
    "        new_y_pred.append(0)"
   ]
  },
  {
   "cell_type": "code",
   "execution_count": 26,
   "metadata": {},
   "outputs": [
    {
     "name": "stdout",
     "output_type": "stream",
     "text": [
      "Accuracy :  1.0\n"
     ]
    }
   ],
   "source": [
    "print('Accuracy : ', accuracy_score(y_test,new_y_pred))"
   ]
  },
  {
   "cell_type": "markdown",
   "metadata": {},
   "source": [
    "As it can be seen that an Accuracy of 100% has been obtained. Since Dataset is very simple therefore getting an Accuracy of % is not surprising at all."
   ]
  },
  {
   "cell_type": "code",
   "execution_count": 27,
   "metadata": {},
   "outputs": [
    {
     "data": {
      "image/png": "[encoded data removed]",
      "text/plain": [
       "<Figure size 432x288 with 1 Axes>"
      ]
     },
     "metadata": {},
     "output_type": "display_data"
    }
   ],
   "source": [
    "cost_func = np.array(cost_func)\n",
    "cost_func = cost_func.reshape(10000,1)\n",
    "plt.plot(range(len(cost_func)),cost_func)\n",
    "plt.xlabel('Epochs')\n",
    "plt.ylabel('Cost')\n",
    "plt.grid()"
   ]
  },
  {
   "cell_type": "markdown",
   "metadata": {},
   "source": [
    "Now tha same process will be done using Scikit-Learn Library which provides a function for Logistic Regression Classifier."
   ]
  },
  {
   "cell_type": "markdown",
   "metadata": {},
   "source": [
    "# Logistic Regression Classifier from Scikit Learn"
   ]
  },
  {
   "cell_type": "markdown",
   "metadata": {},
   "source": [
    "##### Importing Libraries"
   ]
  },
  {
   "cell_type": "code",
   "execution_count": 28,
   "metadata": {},
   "outputs": [],
   "source": [
    "from sklearn.metrics import accuracy_score\n",
    "from sklearn.linear_model import LogisticRegression"
   ]
  },
  {
   "cell_type": "markdown",
   "metadata": {},
   "source": [
    "##### Defining Classifier"
   ]
  },
  {
   "cell_type": "code",
   "execution_count": 29,
   "metadata": {},
   "outputs": [],
   "source": [
    "clf = LogisticRegression()"
   ]
  },
  {
   "cell_type": "markdown",
   "metadata": {},
   "source": [
    "##### Training"
   ]
  },
  {
   "cell_type": "code",
   "execution_count": 30,
   "metadata": {},
   "outputs": [
    {
     "name": "stderr",
     "output_type": "stream",
     "text": [
      "C:\\Users\\Shoaib\\Anaconda3\\lib\\site-packages\\sklearn\\utils\\validation.py:578: DataConversionWarning: A column-vector y was passed when a 1d array was expected. Please change the shape of y to (n_samples, ), for example using ravel().\n",
      "  y = column_or_1d(y, warn=True)\n"
     ]
    },
    {
     "data": {
      "text/plain": [
       "LogisticRegression(C=1.0, class_weight=None, dual=False, fit_intercept=True,\n",
       "          intercept_scaling=1, max_iter=100, multi_class='ovr', n_jobs=1,\n",
       "          penalty='l2', random_state=None, solver='liblinear', tol=0.0001,\n",
       "          verbose=0, warm_start=False)"
      ]
     },
     "execution_count": 30,
     "metadata": {},
     "output_type": "execute_result"
    }
   ],
   "source": [
    "clf.fit(x_train, y_train)"
   ]
  },
  {
   "cell_type": "markdown",
   "metadata": {},
   "source": [
    "##### Testing"
   ]
  },
  {
   "cell_type": "code",
   "execution_count": 31,
   "metadata": {},
   "outputs": [],
   "source": [
    "y_pred = clf.predict(x_test)"
   ]
  },
  {
   "cell_type": "code",
   "execution_count": 32,
   "metadata": {},
   "outputs": [
    {
     "name": "stdout",
     "output_type": "stream",
     "text": [
      "Accuracy :  1.0\n"
     ]
    }
   ],
   "source": [
    "print('Accuracy : ', accuracy_score(y_test,y_pred))"
   ]
  },
  {
   "cell_type": "markdown",
   "metadata": {},
   "source": [
    "Again 100% Accuracy has obtained. Getting same accuracy using both methods provides a proof of correctness of scratch Python implementation."
   ]
  }
 ],
 "metadata": {
  "kernelspec": {
   "display_name": "Python 3",
   "language": "python",
   "name": "python3"
  },
  "language_info": {
   "codemirror_mode": {
    "name": "ipython",
    "version": 3
   },
   "file_extension": ".py",
   "mimetype": "text/x-python",
   "name": "python",
   "nbconvert_exporter": "python",
   "pygments_lexer": "ipython3",
   "version": "3.6.5"
  }
 },
 "nbformat": 4,
 "nbformat_minor": 2
}
